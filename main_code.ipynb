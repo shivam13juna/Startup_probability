{
 "cells": [
  {
   "cell_type": "code",
   "execution_count": 120,
   "metadata": {},
   "outputs": [],
   "source": [
    "import os\n",
    "import numpy as np\n",
    "import pandas as pd\n",
    "from sklearn.preprocessing import LabelEncoder, StandardScaler\n",
    "from sklearn.model_selection import train_test_split\n",
    "from sklearn.metrics import f1_score\n",
    "import lightgbm as lgb\n",
    "\n",
    "\n",
    "#importing machine learning libraries\n",
    "import tensorflow as tf\n",
    "# from tensorflow.kears.models import In\n",
    "from tensorflow.keras.layers import Dense, LSTM, Input\n",
    "from tensorflow.keras.models import Model\n",
    "from tensorflow.keras.callbacks import EarlyStopping, ModelCheckpoint\n",
    "\n",
    "\n",
    "\n",
    "#Secondary imports\n",
    "import pandas_profiling as pp"
   ]
  },
  {
   "cell_type": "markdown",
   "metadata": {},
   "source": [
    "## Reading Datasets"
   ]
  },
  {
   "cell_type": "code",
   "execution_count": 76,
   "metadata": {},
   "outputs": [
    {
     "name": "stderr",
     "output_type": "stream",
     "text": [
      "/usr/local/lib/python3.5/dist-packages/IPython/core/interactiveshell.py:3049: DtypeWarning: Columns (9) have mixed types. Specify dtype option on import or set low_memory=False.\n",
      "  interactivity=interactivity, compiler=compiler, result=result)\n"
     ]
    }
   ],
   "source": [
    "train = pd.read_csv('train_file.csv')\n",
    "test = pd.read_csv('test_file.csv')\n",
    "sample = pd.read_csv('sample_submission.csv')\n",
    "\n"
   ]
  },
  {
   "cell_type": "raw",
   "metadata": {},
   "source": [
    "pp_train = pp.ProfileReport(train)\n",
    "pp_test = pp.ProfileReport(test)\n",
    "\n",
    "pp_train.to_file('train_analysis.html')\n",
    "pp_test.to_file('test_analysis.html')"
   ]
  },
  {
   "cell_type": "code",
   "execution_count": 77,
   "metadata": {},
   "outputs": [
    {
     "data": {
      "text/plain": [
       "['ACCOUNT NUMBER',\n",
       " 'ADDRESS',\n",
       " 'APPLICATION CREATED DATE',\n",
       " 'APPLICATION REQUIREMENTS COMPLETE',\n",
       " 'APPLICATION TYPE',\n",
       " 'CITY',\n",
       " 'CONDITIONAL APPROVAL',\n",
       " 'DATE ISSUED',\n",
       " 'DOING BUSINESS AS NAME',\n",
       " 'ID',\n",
       " 'LATITUDE',\n",
       " 'LEGAL NAME',\n",
       " 'LICENSE APPROVED FOR ISSUANCE',\n",
       " 'LICENSE CODE',\n",
       " 'LICENSE DESCRIPTION',\n",
       " 'LICENSE ID',\n",
       " 'LICENSE NUMBER',\n",
       " 'LICENSE STATUS',\n",
       " 'LICENSE STATUS CHANGE DATE',\n",
       " 'LICENSE TERM EXPIRATION DATE',\n",
       " 'LICENSE TERM START DATE',\n",
       " 'LOCATION',\n",
       " 'LONGITUDE',\n",
       " 'PAYMENT DATE',\n",
       " 'POLICE DISTRICT',\n",
       " 'PRECINCT',\n",
       " 'SITE NUMBER',\n",
       " 'SSA',\n",
       " 'STATE',\n",
       " 'WARD',\n",
       " 'WARD PRECINCT',\n",
       " 'ZIP CODE']"
      ]
     },
     "execution_count": 77,
     "metadata": {},
     "output_type": "execute_result"
    }
   ],
   "source": [
    "sorted(train.columns)"
   ]
  },
  {
   "cell_type": "markdown",
   "metadata": {},
   "source": [
    "## Performing feature processing as discussed in my_approach.pdf"
   ]
  },
  {
   "cell_type": "code",
   "execution_count": 80,
   "metadata": {},
   "outputs": [],
   "source": [
    "'''So the set of features I'll be using from the first analysis (mentioned in the approach file) will be, ['SITE_NUMBER', 'CITY', 'STATE', 'WARD', \n",
    " 'LICENSE_CODE', 'LICENSE_DESCRIPTION', 'LICENSE_TERM_START_DATE' - 'LICENSE_TERM_EXPIRATION_DATE' in days], \n",
    "Later I might use other variables as well'''\n",
    "\n",
    "\n",
    "features = ['SITE NUMBER', 'CITY', 'STATE', 'LICENSE CODE','LICENSE DESCRIPTION', 'LICENSE_DURATION', 'LICENSE_CHANGE']"
   ]
  },
  {
   "cell_type": "code",
   "execution_count": 78,
   "metadata": {},
   "outputs": [],
   "source": [
    "#Finding duration of license, as it's probably an important factor\n",
    "\n",
    "train['LICENSE_DURATION'] = list(map(lambda x, y: (x - y).days, pd.to_datetime(train['LICENSE TERM EXPIRATION DATE']), pd.to_datetime(train['LICENSE TERM START DATE'])))\n",
    "test['LICENSE_DURATION'] = list(map(lambda x, y: (x - y).days, pd.to_datetime(test['LICENSE TERM EXPIRATION DATE']), pd.to_datetime(test['LICENSE TERM START DATE'])))"
   ]
  },
  {
   "cell_type": "code",
   "execution_count": 79,
   "metadata": {},
   "outputs": [],
   "source": [
    "temp = []\n",
    "base = list(map(lambda x: str(x),pd.to_datetime(train['LICENSE STATUS CHANGE DATE']).values ))\n",
    "\n",
    "\n",
    "for i in range(len(base)):\n",
    "    if base[i] !='NaT':\n",
    "        temp.append(1)\n",
    "    else:\n",
    "        temp.append(0)\n",
    "    \n",
    "    \n",
    "train['LICENSE_CHANGE'] = temp\n",
    "\n",
    "temp = [] #If the license was changed, it's 1 else 0\n",
    "base = list(map(lambda x: str(x),pd.to_datetime(test['LICENSE STATUS CHANGE DATE']).values ))\n",
    "\n",
    "\n",
    "for i in range(len(base)):\n",
    "    if base[i] !='NaT':\n",
    "        temp.append(1)\n",
    "    else:\n",
    "        temp.append(0)\n",
    "    \n",
    "    \n",
    "test['LICENSE_CHANGE'] = temp"
   ]
  },
  {
   "cell_type": "code",
   "execution_count": 84,
   "metadata": {},
   "outputs": [],
   "source": [
    "lbl1 = LabelEncoder()\n",
    "lbl2 = LabelEncoder()\n",
    "lbl3 = LabelEncoder()\n",
    "lbl4 = LabelEncoder()\n",
    "\n",
    "\n",
    "lbl1.fit(pd.concat((train['LICENSE DESCRIPTION'], test['LICENSE DESCRIPTION']), axis=0))\n",
    "train['LICENSE DESCRIPTION'] = lbl1.transform(train['LICENSE DESCRIPTION'])\n",
    "test['LICENSE DESCRIPTION'] = lbl1.transform(test['LICENSE DESCRIPTION'])\n",
    "                                              \n",
    "lbl2.fit(pd.concat((train['CITY'], test['CITY']), axis=0))\n",
    "train['CITY'] = lbl2.transform(train['CITY'])\n",
    "test['CITY'] = lbl2.transform(test['CITY'])\n",
    "                                              \n",
    "                                              \n",
    "lbl3.fit(pd.concat((train['STATE'], test['STATE']), axis=0))\n",
    "train['STATE'] = lbl3.transform(train['STATE'])\n",
    "test['STATE'] = lbl3.transform(test['STATE'])\n",
    "                                              \n",
    "lbl4.fit(train['LICENSE STATUS'])\n",
    "train['LICENSE STATUS'] = lbl4.transform(train['LICENSE STATUS'])\n"
   ]
  },
  {
   "cell_type": "markdown",
   "metadata": {},
   "source": [
    "## Checking if POLICE DISTRICT is important"
   ]
  },
  {
   "cell_type": "code",
   "execution_count": 102,
   "metadata": {},
   "outputs": [
    {
     "name": "stdout",
     "output_type": "stream",
     "text": [
      "This is when POLICE DISTRICT is not null (array([0, 1, 3, 4]), array([24830,  6768,     3,   282]))\n",
      "This is when POLICE DISTRICT is null (array([0, 1, 2, 4]), array([ 5370, 48632,     2,     8]))\n"
     ]
    }
   ],
   "source": [
    "print(\"This is when POLICE DISTRICT is not null\",np.unique(train[~train['POLICE DISTRICT'].isna()]['LICENSE STATUS'].values, return_counts=True))\n",
    "print(\"This is when POLICE DISTRICT is null\", np.unique(train[train['POLICE DISTRICT'].isna()]['LICENSE STATUS'].values, return_counts=True))"
   ]
  },
  {
   "cell_type": "code",
   "execution_count": 105,
   "metadata": {},
   "outputs": [
    {
     "data": {
      "text/plain": [
       "array(['AAI'], dtype=object)"
      ]
     },
     "execution_count": 105,
     "metadata": {},
     "output_type": "execute_result"
    }
   ],
   "source": [
    "lbl4.inverse_transform([1])"
   ]
  },
  {
   "cell_type": "markdown",
   "metadata": {},
   "source": [
    "#### As we can see, the LICENSE STATUS of AAI was significantly higher when POLICE DISTRICT was null, next highest term is AAC which is higher when POLICE DISTRICT is not null"
   ]
  },
  {
   "cell_type": "code",
   "execution_count": 110,
   "metadata": {},
   "outputs": [],
   "source": [
    "train['POLICE DISTRICT'].fillna(0, inplace=True)"
   ]
  },
  {
   "cell_type": "markdown",
   "metadata": {},
   "source": [
    "## Checking if WARD and WARD PRECINCT is important"
   ]
  },
  {
   "cell_type": "code",
   "execution_count": 114,
   "metadata": {},
   "outputs": [
    {
     "name": "stdout",
     "output_type": "stream",
     "text": [
      "This is when WARD is not null (array([0, 1, 3, 4]), array([25808, 10094,     3,   289]))\n",
      "This is when WARD is null (array([0, 1, 2, 4]), array([ 4392, 45306,     2,     1]))\n",
      "\n",
      "This is when WARD PRECINCT is not null (array([0, 1, 3, 4]), array([25809, 10094,     3,   289]))\n",
      "This is when WARD PRECINCT is null (array([0, 1, 2, 4]), array([ 4391, 45306,     2,     1]))\n"
     ]
    }
   ],
   "source": [
    "# Checking for WARD first\n",
    "print(\"This is when WARD is not null\",np.unique(train[~train['WARD'].isna()]['LICENSE STATUS'].values, return_counts=True))\n",
    "print(\"This is when WARD is null\", np.unique(train[train['WARD'].isna()]['LICENSE STATUS'].values, return_counts=True))\n",
    "print()\n",
    "# Checking for WARD  PRECINCT first\n",
    "print(\"This is when WARD PRECINCT is not null\",np.unique(train[~train['WARD PRECINCT'].isna()]['LICENSE STATUS'].values, return_counts=True))\n",
    "print(\"This is when WARD PRECINCT is null\", np.unique(train[train['WARD PRECINCT'].isna()]['LICENSE STATUS'].values, return_counts=True))"
   ]
  },
  {
   "cell_type": "markdown",
   "metadata": {},
   "source": [
    "### They both show very similar effect on LICENSE STATUS, and the results are also very similar to POLICE DISTRICT, so not taking these features"
   ]
  },
  {
   "cell_type": "code",
   "execution_count": 110,
   "metadata": {},
   "outputs": [],
   "source": [
    "train['POLICE DISTRICT'].fillna(0, inplace=True)"
   ]
  },
  {
   "cell_type": "code",
   "execution_count": 115,
   "metadata": {},
   "outputs": [],
   "source": [
    "features.append('POLICE DISTRICT')"
   ]
  },
  {
   "cell_type": "code",
   "execution_count": 116,
   "metadata": {},
   "outputs": [
    {
     "data": {
      "text/plain": [
       "['SITE NUMBER',\n",
       " 'CITY',\n",
       " 'STATE',\n",
       " 'LICENSE CODE',\n",
       " 'LICENSE DESCRIPTION',\n",
       " 'LICENSE_DURATION',\n",
       " 'LICENSE_CHANGE',\n",
       " 'POLICE DISTRICT']"
      ]
     },
     "execution_count": 116,
     "metadata": {},
     "output_type": "execute_result"
    }
   ],
   "source": [
    "features"
   ]
  },
  {
   "cell_type": "code",
   "execution_count": 127,
   "metadata": {},
   "outputs": [],
   "source": [
    "trainx, testx, trainy, testy = train_test_split(train[features].values, train['LICENSE STATUS'].values, test_size = 0.18)"
   ]
  },
  {
   "cell_type": "code",
   "execution_count": 128,
   "metadata": {},
   "outputs": [
    {
     "data": {
      "text/plain": [
       "(array([0, 1, 2, 3, 4]), array([24850, 45345,     1,     2,   235]))"
      ]
     },
     "execution_count": 128,
     "metadata": {},
     "output_type": "execute_result"
    }
   ],
   "source": [
    "np.unique(trainy, return_counts=True)"
   ]
  },
  {
   "cell_type": "markdown",
   "metadata": {},
   "source": [
    "### Starting construction of models"
   ]
  },
  {
   "cell_type": "code",
   "execution_count": 129,
   "metadata": {},
   "outputs": [
    {
     "data": {
      "text/plain": [
       "LGBMClassifier(boosting_type='gbdt', class_weight=None, colsample_bytree=1.0,\n",
       "               importance_type='split', learning_rate=0.1, max_depth=-1,\n",
       "               min_child_samples=20, min_child_weight=0.001, min_split_gain=0.0,\n",
       "               n_estimators=100, n_jobs=-1, num_leaves=31, objective=None,\n",
       "               random_state=None, reg_alpha=0.0, reg_lambda=0.0, silent=True,\n",
       "               subsample=1.0, subsample_for_bin=200000, subsample_freq=0)"
      ]
     },
     "execution_count": 129,
     "metadata": {},
     "output_type": "execute_result"
    }
   ],
   "source": [
    "lgbb = lgb.LGBMClassifier()\n",
    "lgbb.fit(trainx, trainy)"
   ]
  },
  {
   "cell_type": "markdown",
   "metadata": {},
   "source": [
    "### From LIGHTGBM"
   ]
  },
  {
   "cell_type": "code",
   "execution_count": 130,
   "metadata": {},
   "outputs": [],
   "source": [
    "result = lgbb.predict(test[features])"
   ]
  },
  {
   "cell_type": "code",
   "execution_count": 131,
   "metadata": {},
   "outputs": [
    {
     "data": {
      "text/plain": [
       "(array([0, 1, 2, 3, 4]), array([33125, 23296,     2,     9,   807]))"
      ]
     },
     "execution_count": 131,
     "metadata": {},
     "output_type": "execute_result"
    }
   ],
   "source": [
    "np.unique(result, return_counts=True)"
   ]
  },
  {
   "cell_type": "code",
   "execution_count": 132,
   "metadata": {},
   "outputs": [],
   "source": [
    "submission = pd.DataFrame()\n",
    "submission['ID'] = test['ID']\n",
    "submission['LICENSE STATUS'] = lbl4.inverse_transform(result)"
   ]
  },
  {
   "cell_type": "code",
   "execution_count": 133,
   "metadata": {},
   "outputs": [
    {
     "data": {
      "text/html": [
       "<div>\n",
       "<style scoped>\n",
       "    .dataframe tbody tr th:only-of-type {\n",
       "        vertical-align: middle;\n",
       "    }\n",
       "\n",
       "    .dataframe tbody tr th {\n",
       "        vertical-align: top;\n",
       "    }\n",
       "\n",
       "    .dataframe thead th {\n",
       "        text-align: right;\n",
       "    }\n",
       "</style>\n",
       "<table border=\"1\" class=\"dataframe\">\n",
       "  <thead>\n",
       "    <tr style=\"text-align: right;\">\n",
       "      <th></th>\n",
       "      <th>ID</th>\n",
       "      <th>LICENSE STATUS</th>\n",
       "    </tr>\n",
       "  </thead>\n",
       "  <tbody>\n",
       "    <tr>\n",
       "      <th>0</th>\n",
       "      <td>1516615-20120216</td>\n",
       "      <td>AAC</td>\n",
       "    </tr>\n",
       "    <tr>\n",
       "      <th>1</th>\n",
       "      <td>69813-20110616</td>\n",
       "      <td>AAC</td>\n",
       "    </tr>\n",
       "    <tr>\n",
       "      <th>2</th>\n",
       "      <td>1519227-20041116</td>\n",
       "      <td>AAI</td>\n",
       "    </tr>\n",
       "    <tr>\n",
       "      <th>3</th>\n",
       "      <td>1922025-20100816</td>\n",
       "      <td>AAC</td>\n",
       "    </tr>\n",
       "    <tr>\n",
       "      <th>4</th>\n",
       "      <td>1675683-20070816</td>\n",
       "      <td>AAC</td>\n",
       "    </tr>\n",
       "  </tbody>\n",
       "</table>\n",
       "</div>"
      ],
      "text/plain": [
       "                 ID LICENSE STATUS\n",
       "0  1516615-20120216            AAC\n",
       "1    69813-20110616            AAC\n",
       "2  1519227-20041116            AAI\n",
       "3  1922025-20100816            AAC\n",
       "4  1675683-20070816            AAC"
      ]
     },
     "execution_count": 133,
     "metadata": {},
     "output_type": "execute_result"
    }
   ],
   "source": [
    "submission.head()"
   ]
  },
  {
   "cell_type": "code",
   "execution_count": 134,
   "metadata": {},
   "outputs": [],
   "source": [
    "submission.to_csv('submission.csv', index=False)"
   ]
  },
  {
   "cell_type": "code",
   "execution_count": null,
   "metadata": {},
   "outputs": [],
   "source": []
  },
  {
   "cell_type": "code",
   "execution_count": null,
   "metadata": {},
   "outputs": [],
   "source": []
  }
 ],
 "metadata": {
  "kernelspec": {
   "display_name": "Python 3",
   "language": "python",
   "name": "python3"
  },
  "language_info": {
   "codemirror_mode": {
    "name": "ipython",
    "version": 3
   },
   "file_extension": ".py",
   "mimetype": "text/x-python",
   "name": "python",
   "nbconvert_exporter": "python",
   "pygments_lexer": "ipython3",
   "version": "3.5.7"
  }
 },
 "nbformat": 4,
 "nbformat_minor": 2
}
